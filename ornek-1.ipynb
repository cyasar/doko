{
 "cells": [
  {
   "cell_type": "code",
   "execution_count": 2,
   "id": "baff2904-b002-4665-b786-9e5d4785d60f",
   "metadata": {
    "tags": []
   },
   "outputs": [
    {
     "name": "stdout",
     "output_type": "stream",
     "text": [
      "Optimal değer: 16000.000000000002\n",
      "Buğday miktarı: 0.0\n",
      "Arpa miktarı: 133.33333333333334\n"
     ]
    }
   ],
   "source": [
    "from scipy.optimize import linprog\n",
    "\n",
    "# Katsayıları tanımlayın\n",
    "c = [-50, -120]  # Hedef fonksiyonun katsayıları (maksimizasyon problemi çözdüğümüz için negatif)\n",
    "A = [[10, 15], [20, 10]]  # Kısıtlama denklemlerinin katsayıları\n",
    "b = [2000, 15000]  # Kısıtlamalar\n",
    "\n",
    "# X sınırları (x >= 0)\n",
    "x0_bounds = (0, None)\n",
    "x1_bounds = (0, None)\n",
    "\n",
    "# Linprog fonksiyonunu kullanarak çözümü bulun\n",
    "res = linprog(c, A_ub=A, b_ub=b, bounds=[x0_bounds, x1_bounds], method='simplex')\n",
    "\n",
    "print('Optimal değer:', -res.fun)\n",
    "print('Buğday miktarı:', res.x[0])\n",
    "print('Arpa miktarı:', res.x[1])\n"
   ]
  },
  {
   "cell_type": "code",
   "execution_count": 3,
   "id": "f57a039d-da65-4350-8922-bd3ebc1a49ee",
   "metadata": {
    "tags": []
   },
   "outputs": [
    {
     "name": "stdout",
     "output_type": "stream",
     "text": [
      "Optimal değer: 14500.0\n",
      "Buğday miktarı: 50.0\n",
      "Arpa miktarı: 100.0\n"
     ]
    }
   ],
   "source": [
    "x0_bounds = (50, None)  # B için alt sınırı 50 olarak ayarlıyoruz\n",
    "x1_bounds = (0, None)\n",
    "\n",
    "# Linprog fonksiyonunu kullanarak çözümü bulun\n",
    "res = linprog(c, A_ub=A, b_ub=b, bounds=[x0_bounds, x1_bounds], method='simplex')\n",
    "\n",
    "print('Optimal değer:', -res.fun)\n",
    "print('Buğday miktarı:', res.x[0])\n",
    "print('Arpa miktarı:', res.x[1])\n"
   ]
  },
  {
   "cell_type": "code",
   "execution_count": null,
   "id": "7dbf1701-2321-46cc-93d8-81fdd3349aaf",
   "metadata": {},
   "outputs": [],
   "source": []
  }
 ],
 "metadata": {
  "kernelspec": {
   "display_name": "Python 3 (ipykernel)",
   "language": "python",
   "name": "python3"
  },
  "language_info": {
   "codemirror_mode": {
    "name": "ipython",
    "version": 3
   },
   "file_extension": ".py",
   "mimetype": "text/x-python",
   "name": "python",
   "nbconvert_exporter": "python",
   "pygments_lexer": "ipython3",
   "version": "3.10.6"
  }
 },
 "nbformat": 4,
 "nbformat_minor": 5
}
