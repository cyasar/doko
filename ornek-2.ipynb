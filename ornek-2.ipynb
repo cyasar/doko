{
 "cells": [
  {
   "cell_type": "code",
   "execution_count": 1,
   "id": "d4afefc3-cefb-44a1-a8bf-fd8d5b121a97",
   "metadata": {
    "tags": []
   },
   "outputs": [
    {
     "name": "stdout",
     "output_type": "stream",
     "text": [
      "Optimal değer:  645.9751934989665\n",
      "x1 ve x2 değerleri:  [14.90713505 22.36065755]\n"
     ]
    }
   ],
   "source": [
    "from scipy.optimize import minimize\n",
    "import numpy as np\n",
    "\n",
    "# Hedef fonksiyonun tanımlanması\n",
    "def objective(x):\n",
    "    x1 = x[0]\n",
    "    x2 = x[1]\n",
    "    return -((20 - 0.03*x1**2)*x1 + (30 - 0.02*x2**2)*x2)\n",
    "\n",
    "# Başlangıç tahmini\n",
    "x0 = [0, 0]\n",
    "\n",
    "# Kısıtlamalar\n",
    "def constraint(x):\n",
    "    return 240 - 3*x[0] - 4*x[1]\n",
    "\n",
    "cons = ({'type': 'ineq', 'fun': constraint})\n",
    "\n",
    "# Çözümün bulunması\n",
    "solution = minimize(objective, x0, method='SLSQP', constraints=cons)\n",
    "\n",
    "# Çözümün yazdırılması\n",
    "print(\"Optimal değer: \", -solution.fun)\n",
    "print(\"x1 ve x2 değerleri: \", solution.x)\n"
   ]
  },
  {
   "cell_type": "code",
   "execution_count": null,
   "id": "1bac550a-61cd-4879-9bd7-4eff849bf9f9",
   "metadata": {},
   "outputs": [],
   "source": []
  }
 ],
 "metadata": {
  "kernelspec": {
   "display_name": "Python 3 (ipykernel)",
   "language": "python",
   "name": "python3"
  },
  "language_info": {
   "codemirror_mode": {
    "name": "ipython",
    "version": 3
   },
   "file_extension": ".py",
   "mimetype": "text/x-python",
   "name": "python",
   "nbconvert_exporter": "python",
   "pygments_lexer": "ipython3",
   "version": "3.10.6"
  }
 },
 "nbformat": 4,
 "nbformat_minor": 5
}
