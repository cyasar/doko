{
 "cells": [
  {
   "cell_type": "code",
   "execution_count": 1,
   "id": "55c0663d-d10b-47e0-92c3-85d6291114f7",
   "metadata": {
    "tags": []
   },
   "outputs": [
    {
     "name": "stdout",
     "output_type": "stream",
     "text": [
      "Optimization terminated successfully.\n",
      "         Current function value: 0.000000\n",
      "         Iterations: 85\n",
      "         Function evaluations: 107\n",
      "         Gradient evaluations: 107\n",
      "         Hessian evaluations: 85\n",
      "Newton yöntemi ile bulunan minimum nokta:  [1. 1.]\n",
      "Optimization terminated successfully.\n",
      "         Current function value: 0.000000\n",
      "         Iterations: 32\n",
      "         Function evaluations: 39\n",
      "         Gradient evaluations: 39\n",
      "BFGS yöntemi ile bulunan minimum nokta:  [0.99999997 0.99999995]\n"
     ]
    }
   ],
   "source": [
    "import numpy as np\n",
    "from scipy.optimize import minimize\n",
    "\n",
    "# Rosenbrock fonksiyonu ve gradyanı\n",
    "def rosen(x):\n",
    "    return 100.0*(x[1]-x[0]**2.0)**2.0 + (1-x[0])**2.0\n",
    "\n",
    "def rosen_der(x):\n",
    "    der = np.zeros_like(x)\n",
    "    der[0] = -400.0*x[0]*(x[1]-x[0]**2.0) - 2.0*(1-x[0])\n",
    "    der[1] = 200.0*(x[1]-x[0]**2.0)\n",
    "    return der\n",
    "\n",
    "# Hessian hesaplamak için\n",
    "def rosen_hess(x):\n",
    "    hess = np.zeros((2,2))\n",
    "    hess[0, 0] = -400.0*x[1] + 1200.0*x[0]**2.0 + 2.0\n",
    "    hess[0, 1] = -400.0*x[0]\n",
    "    hess[1, 0] = -400.0*x[0]\n",
    "    hess[1, 1] = 200.0\n",
    "    return hess\n",
    "\n",
    "# Başlangıç noktası\n",
    "x0 = np.array([-1.2, 1.0])\n",
    "\n",
    "# Newton yöntemi\n",
    "res_newton = minimize(rosen, x0, method='Newton-CG',\n",
    "                      jac=rosen_der, hess=rosen_hess,\n",
    "                      options={'xtol': 1e-8, 'disp': True})\n",
    "\n",
    "print(\"Newton yöntemi ile bulunan minimum nokta: \", res_newton.x)\n",
    "\n",
    "# BFGS yöntemi\n",
    "res_bfgs = minimize(rosen, x0, method='BFGS', jac=rosen_der,\n",
    "                    options={'disp': True})\n",
    "\n",
    "print(\"BFGS yöntemi ile bulunan minimum nokta: \", res_bfgs.x)\n"
   ]
  },
  {
   "cell_type": "code",
   "execution_count": null,
   "id": "2d948094-cb47-433f-aaa6-276ff51450d6",
   "metadata": {},
   "outputs": [],
   "source": []
  }
 ],
 "metadata": {
  "kernelspec": {
   "display_name": "Python 3 (ipykernel)",
   "language": "python",
   "name": "python3"
  },
  "language_info": {
   "codemirror_mode": {
    "name": "ipython",
    "version": 3
   },
   "file_extension": ".py",
   "mimetype": "text/x-python",
   "name": "python",
   "nbconvert_exporter": "python",
   "pygments_lexer": "ipython3",
   "version": "3.10.6"
  }
 },
 "nbformat": 4,
 "nbformat_minor": 5
}
