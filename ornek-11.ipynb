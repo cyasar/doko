{
 "cells": [
  {
   "cell_type": "code",
   "execution_count": 1,
   "id": "79cee4a1-d660-442a-8385-a7f08d011ac5",
   "metadata": {
    "tags": []
   },
   "outputs": [
    {
     "name": "stdout",
     "output_type": "stream",
     "text": [
      "x: 1/2, y: 1/2, lambda: 1/2\n"
     ]
    }
   ],
   "source": [
    "from sympy import symbols, Eq, diff, solve\n",
    "\n",
    "# Değişkenler ve Lagrange çarpanını tanımlayalım\n",
    "x, y, l = symbols('x y l')\n",
    "\n",
    "# Kısıtlama ve hedef fonksiyonunu tanımlayalım\n",
    "constraint = Eq(x + y, 1)\n",
    "objective = x * y\n",
    "\n",
    "# Lagrange fonksiyonunu tanımlayalım: L = f - l * g, burada g kısıtlama eşitliğidir\n",
    "L = objective - l * (constraint.lhs - constraint.rhs)\n",
    "\n",
    "# Lagrange fonksiyonunun kısmi türevlerini hesaplayalım\n",
    "grad_L = [diff(L, var) for var in (x, y, l)]\n",
    "\n",
    "# Kısmi türevlerin sıfıra eşit olduğu çözümleri bulalım\n",
    "solution = solve(grad_L, (x, y, l))\n",
    "\n",
    "print(f\"x: {solution[x]}, y: {solution[y]}, lambda: {solution[l]}\")\n"
   ]
  },
  {
   "cell_type": "code",
   "execution_count": null,
   "id": "1c0d9bca-cb6d-4f89-a8ad-ecad0eb2ff44",
   "metadata": {},
   "outputs": [],
   "source": []
  }
 ],
 "metadata": {
  "kernelspec": {
   "display_name": "Python 3 (ipykernel)",
   "language": "python",
   "name": "python3"
  },
  "language_info": {
   "codemirror_mode": {
    "name": "ipython",
    "version": 3
   },
   "file_extension": ".py",
   "mimetype": "text/x-python",
   "name": "python",
   "nbconvert_exporter": "python",
   "pygments_lexer": "ipython3",
   "version": "3.10.6"
  }
 },
 "nbformat": 4,
 "nbformat_minor": 5
}
