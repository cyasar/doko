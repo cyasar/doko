{
 "cells": [
  {
   "cell_type": "code",
   "execution_count": 1,
   "id": "1b58bb88-1196-4918-a69a-2dc4f9ccbf01",
   "metadata": {
    "tags": []
   },
   "outputs": [
    {
     "name": "stdout",
     "output_type": "stream",
     "text": [
      "İterasyon 1, x: -3.670774270471604\n",
      "İterasyon 2, x: -3.64596556478623\n",
      "İterasyon 3, x: -3.620550376333403\n",
      "İterasyon 4, x: -3.594498958948055\n",
      "İterasyon 5, x: -3.567779358553432\n"
     ]
    }
   ],
   "source": [
    "import numpy as np\n",
    "\n",
    "def F(x):\n",
    "    return np.exp(x) - 1\n",
    "\n",
    "def dF(x):\n",
    "    return np.exp(x)\n",
    "\n",
    "x = 1  # başlangıç tahmini\n",
    "for i in range(5):\n",
    "    J = dF(x)\n",
    "    x = x - J**2 / J * F(x)\n",
    "    print(f\"İterasyon {i+1}, x: {x}\")\n",
    "\n"
   ]
  },
  {
   "cell_type": "code",
   "execution_count": null,
   "id": "69dae6d9-833a-4e0a-b182-28919b315335",
   "metadata": {},
   "outputs": [],
   "source": []
  }
 ],
 "metadata": {
  "kernelspec": {
   "display_name": "Python 3 (ipykernel)",
   "language": "python",
   "name": "python3"
  },
  "language_info": {
   "codemirror_mode": {
    "name": "ipython",
    "version": 3
   },
   "file_extension": ".py",
   "mimetype": "text/x-python",
   "name": "python",
   "nbconvert_exporter": "python",
   "pygments_lexer": "ipython3",
   "version": "3.10.6"
  }
 },
 "nbformat": 4,
 "nbformat_minor": 5
}
