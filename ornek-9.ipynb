{
 "cells": [
  {
   "cell_type": "code",
   "execution_count": 1,
   "id": "9465eef7-d299-4521-ae1f-71c9a9b32a6d",
   "metadata": {
    "tags": []
   },
   "outputs": [
    {
     "name": "stdout",
     "output_type": "stream",
     "text": [
      "Kömür Santrali Sayısı: 9.230782842774943\n",
      "Doğalgaz Santrali Sayısı: 13.846174264162528\n",
      "Rüzgar Santrali Sayısı: 3.4021268220385537e-05\n",
      "Toplam Maliyet: 60000.258584378564\n"
     ]
    }
   ],
   "source": [
    "from scipy.optimize import minimize\n",
    "\n",
    "# Objective function\n",
    "def objective(x):\n",
    "    x1, x2, x3 = x\n",
    "    return 2000*x1 + 3000*x2 + 5000*x3\n",
    "\n",
    "# Constraints\n",
    "constraints = [{'type': 'ineq', 'fun': lambda x:  20*x[0] + 30*x[1] + 40*x[2] - 600},\n",
    "               {'type': 'ineq', 'fun': lambda x: x[0]},\n",
    "               {'type': 'ineq', 'fun': lambda x: x[1]},\n",
    "               {'type': 'ineq', 'fun': lambda x: x[2]}]\n",
    "\n",
    "# Initial guess\n",
    "x0 = [0, 0, 0]\n",
    "\n",
    "# Call the optimizer\n",
    "res = minimize(objective, x0, method='SLSQP', constraints=constraints)\n",
    "\n",
    "print(f'Kömür Santrali Sayısı: {res.x[0]}')\n",
    "print(f'Doğalgaz Santrali Sayısı: {res.x[1]}')\n",
    "print(f'Rüzgar Santrali Sayısı: {res.x[2]}')\n",
    "print(f'Toplam Maliyet: {res.fun}')\n"
   ]
  },
  {
   "cell_type": "code",
   "execution_count": null,
   "id": "9135b852-2140-42e3-9f94-20c7e73301b2",
   "metadata": {},
   "outputs": [],
   "source": []
  }
 ],
 "metadata": {
  "kernelspec": {
   "display_name": "Python 3 (ipykernel)",
   "language": "python",
   "name": "python3"
  },
  "language_info": {
   "codemirror_mode": {
    "name": "ipython",
    "version": 3
   },
   "file_extension": ".py",
   "mimetype": "text/x-python",
   "name": "python",
   "nbconvert_exporter": "python",
   "pygments_lexer": "ipython3",
   "version": "3.10.6"
  }
 },
 "nbformat": 4,
 "nbformat_minor": 5
}
