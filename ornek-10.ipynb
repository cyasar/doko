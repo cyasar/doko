{
 "cells": [
  {
   "cell_type": "code",
   "execution_count": 2,
   "id": "2e25746d-7cf3-47a4-b2c5-e3c2163aac9b",
   "metadata": {
    "tags": []
   },
   "outputs": [
    {
     "name": "stdout",
     "output_type": "stream",
     "text": [
      "Optimal değerler: [1.25000000e+02 0.00000000e+00 2.45137244e-13]\n",
      "Toplam çevresel etki: 1875.0000000000027\n",
      "Kavak ağacı sayısı: 124.99999999999977\n",
      "Çam ağacı sayısı: 0.0\n",
      "Meşe ağacı sayısı: 2.4513724383723456e-13\n"
     ]
    }
   ],
   "source": [
    "from scipy.optimize import minimize\n",
    "\n",
    "# hedef fonksiyonumuz\n",
    "def objective(x):\n",
    "    x1, x2, x3 = x\n",
    "    return -15*x1 -20*x2 -25*x3 \n",
    "\n",
    "# bütçe kısıtlaması\n",
    "cons = ({'type': 'eq', 'fun': lambda x:  80*x[0] + 110*x[1] + 140*x[2] - 10000})\n",
    "\n",
    "# ağaç sayısının sıfırdan az olamayacağı kısıtlama\n",
    "bnds = ((0, None), (0, None), (0, None))\n",
    "\n",
    "# başlangıç noktası (0, 0, 0)\n",
    "x0 = (0, 0, 0)\n",
    "\n",
    "# SQP algoritmasını kullanarak minimize ediyoruz\n",
    "solution = minimize(objective, x0, method='SLSQP', bounds=bnds, constraints=cons)\n",
    "\n",
    "# sonuçları yazdırıyoruz\n",
    "print(\"Optimal değerler:\", solution.x)\n",
    "print(\"Toplam çevresel etki:\", -solution.fun)\n",
    "\n",
    "# Her ağaç türünden kaç adet dikilebileceğini yazdırıyoruz\n",
    "print(\"Kavak ağacı sayısı:\", solution.x[0])\n",
    "print(\"Çam ağacı sayısı:\", solution.x[1])\n",
    "print(\"Meşe ağacı sayısı:\", solution.x[2])\n"
   ]
  },
  {
   "cell_type": "code",
   "execution_count": null,
   "id": "dac7c481-2e55-4250-86da-d3f989e8f74c",
   "metadata": {},
   "outputs": [],
   "source": []
  }
 ],
 "metadata": {
  "kernelspec": {
   "display_name": "Python 3 (ipykernel)",
   "language": "python",
   "name": "python3"
  },
  "language_info": {
   "codemirror_mode": {
    "name": "ipython",
    "version": 3
   },
   "file_extension": ".py",
   "mimetype": "text/x-python",
   "name": "python",
   "nbconvert_exporter": "python",
   "pygments_lexer": "ipython3",
   "version": "3.10.6"
  }
 },
 "nbformat": 4,
 "nbformat_minor": 5
}
