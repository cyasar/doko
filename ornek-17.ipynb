{
 "cells": [
  {
   "cell_type": "code",
   "execution_count": null,
   "id": "aae28fbd-2aaf-4c62-ab4e-db8ee91e421a",
   "metadata": {
    "tags": []
   },
   "outputs": [],
   "source": []
  },
  {
   "cell_type": "code",
   "execution_count": 4,
   "id": "45f4396e-2fcd-4001-89c1-066129be5d2a",
   "metadata": {
    "tags": []
   },
   "outputs": [
    {
     "name": "stdout",
     "output_type": "stream",
     "text": [
      "Global en iyi pozisyon:  10.005333988966171\n",
      "Global en iyi uygunluk:  2.845143829688368e-05\n"
     ]
    }
   ],
   "source": [
    "import random\n",
    "import numpy as np\n",
    "\n",
    "# Hedef fonksiyon\n",
    "def f(x):\n",
    "    return x**2 - 20*x + 100\n",
    "\n",
    "# PSO parametreleri\n",
    "n_particles = 30  # Parçacık sayısı\n",
    "n_iterations = 100  # İterasyon sayısı\n",
    "dim = n_particles  # Boyut sayısı\n",
    "bounds = [(-10, 30)] * dim  # Her bir boyut için (alt sınır, üst sınır) çifti\n",
    "\n",
    "# Başlangıç parçacıkları ve hızları\n",
    "particles = [bounds[i][0] + random.random() * (bounds[i][1] - bounds[i][0]) for i in range(dim)]\n",
    "velocities = [random.random() * (bounds[i][1] - bounds[i][0]) for i in range(dim)]\n",
    "\n",
    "# Global en iyiyi başlat\n",
    "global_best = None\n",
    "global_best_pos = None\n",
    "\n",
    "for _ in range(n_iterations):\n",
    "    for i in range(n_particles):\n",
    "        # Parçacığın pozisyonunu ve hızını güncelle\n",
    "        velocities[i] += 2.0 * random.random() * (global_best_pos - particles[i]) if global_best_pos else 0\n",
    "        particles[i] += velocities[i]\n",
    "        \n",
    "        # Parçacığın pozisyonunu sınırlar içinde tut\n",
    "        particles[i] = max(min(particles[i], bounds[i][1]), bounds[i][0])\n",
    "        \n",
    "        # Parçacığın uygunluğunu hesapla\n",
    "        fitness = f(particles[i])\n",
    "        \n",
    "        # Eğer bu parçacık şimdiye kadarki en iyiyse, global en iyiyi güncelle\n",
    "        if global_best is None or fitness < global_best:\n",
    "            global_best = fitness\n",
    "            global_best_pos = particles[i]\n",
    "\n",
    "print(\"Global en iyi pozisyon: \", global_best_pos)\n",
    "print(\"Global en iyi uygunluk: \", global_best)\n"
   ]
  },
  {
   "cell_type": "code",
   "execution_count": null,
   "id": "e8926a5b-06b3-4f34-b20a-1f34aaeaefb2",
   "metadata": {},
   "outputs": [],
   "source": []
  }
 ],
 "metadata": {
  "kernelspec": {
   "display_name": "Python 3 (ipykernel)",
   "language": "python",
   "name": "python3"
  },
  "language_info": {
   "codemirror_mode": {
    "name": "ipython",
    "version": 3
   },
   "file_extension": ".py",
   "mimetype": "text/x-python",
   "name": "python",
   "nbconvert_exporter": "python",
   "pygments_lexer": "ipython3",
   "version": "3.10.6"
  }
 },
 "nbformat": 4,
 "nbformat_minor": 5
}
