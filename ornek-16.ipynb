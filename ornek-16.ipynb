{
 "cells": [
  {
   "cell_type": "code",
   "execution_count": 2,
   "id": "0020fd8b-6022-4938-87d6-5cd02a965df0",
   "metadata": {
    "tags": []
   },
   "outputs": [
    {
     "name": "stdout",
     "output_type": "stream",
     "text": [
      "Optimized theta value is:  1.999999995959426\n"
     ]
    }
   ],
   "source": [
    "import numpy as np\n",
    "\n",
    "# Maliyet fonksiyonu\n",
    "def f(x):\n",
    "    return x**2 - 4*x + 2\n",
    "\n",
    "# SPSA algoritması\n",
    "def SPSA(theta_0, a, c, max_iter):\n",
    "    theta = theta_0\n",
    "    for k in range(max_iter):\n",
    "        # Perturbation (rastgele +/- 1 değerleri)\n",
    "        delta = 2 * np.round(np.random.rand()) - 1\n",
    "        # theta+ ve theta- değerleri\n",
    "        theta_plus = theta + c/delta\n",
    "        theta_minus = theta - c/delta\n",
    "        # Gradyan tahmini\n",
    "        g_hat = (f(theta_plus) - f(theta_minus)) / (2 * delta)\n",
    "        # Parametre güncelleme\n",
    "        theta = theta - a * g_hat\n",
    "    return theta\n",
    "\n",
    "# Başlangıç parametresi\n",
    "theta_0 = 0.0\n",
    "# Adım büyüklüğü ve öğrenme oranı\n",
    "a = 0.01\n",
    "c = 0.1\n",
    "# Maksimum iterasyon sayısı\n",
    "max_iter = 10000\n",
    "\n",
    "# SPSA ile optimizasyon\n",
    "theta_opt = SPSA(theta_0, a, c, max_iter)\n",
    "\n",
    "print(\"Optimized theta value is: \", theta_opt)\n"
   ]
  },
  {
   "cell_type": "code",
   "execution_count": null,
   "id": "665d4920-f362-45dd-b6fc-59ccb7305a37",
   "metadata": {},
   "outputs": [],
   "source": []
  }
 ],
 "metadata": {
  "kernelspec": {
   "display_name": "Python 3 (ipykernel)",
   "language": "python",
   "name": "python3"
  },
  "language_info": {
   "codemirror_mode": {
    "name": "ipython",
    "version": 3
   },
   "file_extension": ".py",
   "mimetype": "text/x-python",
   "name": "python",
   "nbconvert_exporter": "python",
   "pygments_lexer": "ipython3",
   "version": "3.10.6"
  }
 },
 "nbformat": 4,
 "nbformat_minor": 5
}
