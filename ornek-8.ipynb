{
 "cells": [
  {
   "cell_type": "code",
   "execution_count": 1,
   "id": "c8a1ec42-1a75-4e8d-a19a-1fb413974c62",
   "metadata": {
    "tags": []
   },
   "outputs": [
    {
     "name": "stdout",
     "output_type": "stream",
     "text": [
      "Optimal solution:  [40. 20.]\n",
      "Maximum profit:  6999.999999803613\n"
     ]
    }
   ],
   "source": [
    "from scipy.optimize import minimize\n",
    "\n",
    "# Objective function\n",
    "def objective(x):\n",
    "    x1 = x[0]\n",
    "    x2 = x[1]\n",
    "    return -1*(100*x1 + 150*x2)\n",
    "\n",
    "# Constraints\n",
    "cons = ({'type': 'ineq', 'fun': lambda x:  80 - x[0] - 2*x[1]},\n",
    "        {'type': 'ineq', 'fun': lambda x: 100 - 2*x[0] - x[1]},\n",
    "        {'type': 'ineq', 'fun': lambda x: x[0]},\n",
    "        {'type': 'ineq', 'fun': lambda x: x[1]})\n",
    "\n",
    "# Initial guess\n",
    "x0 = [0, 0]\n",
    "\n",
    "# Optimize\n",
    "sol = minimize(objective, x0, method='SLSQP', constraints=cons)\n",
    "\n",
    "print(\"Optimal solution: \", sol.x)\n",
    "print(\"Maximum profit: \", -1*sol.fun)\n"
   ]
  },
  {
   "cell_type": "code",
   "execution_count": null,
   "id": "5508785c-b913-4330-916b-f8292194b763",
   "metadata": {},
   "outputs": [],
   "source": []
  }
 ],
 "metadata": {
  "kernelspec": {
   "display_name": "Python 3 (ipykernel)",
   "language": "python",
   "name": "python3"
  },
  "language_info": {
   "codemirror_mode": {
    "name": "ipython",
    "version": 3
   },
   "file_extension": ".py",
   "mimetype": "text/x-python",
   "name": "python",
   "nbconvert_exporter": "python",
   "pygments_lexer": "ipython3",
   "version": "3.10.6"
  }
 },
 "nbformat": 4,
 "nbformat_minor": 5
}
