{
 "cells": [
  {
   "cell_type": "code",
   "execution_count": 1,
   "id": "56b413ca-0229-49cf-a95b-5a299c4fef22",
   "metadata": {
    "tags": []
   },
   "outputs": [
    {
     "name": "stdout",
     "output_type": "stream",
     "text": [
      "[25. 50.]\n"
     ]
    },
    {
     "name": "stderr",
     "output_type": "stream",
     "text": [
      "/usr/lib/python3/dist-packages/scipy/optimize/_numdiff.py:576: RuntimeWarning: invalid value encountered in subtract\n",
      "  df = fun(x) - f0\n"
     ]
    }
   ],
   "source": [
    "from scipy.optimize import minimize\n",
    "import numpy as np\n",
    "\n",
    "# Objective function\n",
    "def objective(x):\n",
    "    return -(6*x[0] + 5*x[1]) # We negate here to change maximization into minimization problem\n",
    "\n",
    "# Constraint\n",
    "def constraint(x):\n",
    "    return 100 - 2*x[0] - x[1]\n",
    "\n",
    "# Barrier function\n",
    "def barrier(x, u):\n",
    "    return constraint(x) if constraint(x) > 0 else np.inf\n",
    "\n",
    "# Modified objective function for the barrier method\n",
    "def modified_objective(x, u):\n",
    "    return objective(x) + 1/u * barrier(x, u)\n",
    "\n",
    "# Initial guess\n",
    "x0 = np.array([25, 50])\n",
    "\n",
    "# Barrier parameter\n",
    "u = 1\n",
    "\n",
    "result = minimize(modified_objective, x0, args=(u), method='SLSQP', bounds=((0, np.inf), (0, np.inf)))\n",
    "print(result.x)\n"
   ]
  },
  {
   "cell_type": "code",
   "execution_count": null,
   "id": "779012c1-ff67-4a95-84af-ff67ce870df3",
   "metadata": {},
   "outputs": [],
   "source": []
  }
 ],
 "metadata": {
  "kernelspec": {
   "display_name": "Python 3 (ipykernel)",
   "language": "python",
   "name": "python3"
  },
  "language_info": {
   "codemirror_mode": {
    "name": "ipython",
    "version": 3
   },
   "file_extension": ".py",
   "mimetype": "text/x-python",
   "name": "python",
   "nbconvert_exporter": "python",
   "pygments_lexer": "ipython3",
   "version": "3.10.6"
  }
 },
 "nbformat": 4,
 "nbformat_minor": 5
}
