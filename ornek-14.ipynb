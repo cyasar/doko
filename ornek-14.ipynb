{
 "cells": [
  {
   "cell_type": "code",
   "execution_count": 10,
   "id": "78b17e2f-eaf3-4f2b-88f5-1fed850a2075",
   "metadata": {
    "tags": []
   },
   "outputs": [
    {
     "name": "stdout",
     "output_type": "stream",
     "text": [
      "İterasyon 2, x: -122.0\n",
      "İterasyon 3, x: 3813126.0\n",
      "İterasyon 4, x: -1.1088499493870813e+20\n",
      "İterasyon 5, x: 2.726768941422092e+60\n",
      "İterasyon 6, x: -4.0548520396618996e+181\n"
     ]
    }
   ],
   "source": [
    "import numpy as np\n",
    "\n",
    "def F(x):\n",
    "    return x**2 - 4*x + 4\n",
    "\n",
    "def dF(x):\n",
    "    return 2*x - 4\n",
    "\n",
    "x = 6  # başlangıç tahmini\n",
    "for i in range(1,x):\n",
    "    J = dF(x)\n",
    "    x = x - J**2 / J * F(x)\n",
    "    print(f\"İterasyon {i+1}, x: {x}\")\n",
    "\n"
   ]
  },
  {
   "cell_type": "code",
   "execution_count": null,
   "id": "b754d01a-f473-4f16-80ee-7a438ff15cd7",
   "metadata": {},
   "outputs": [],
   "source": []
  }
 ],
 "metadata": {
  "kernelspec": {
   "display_name": "Python 3 (ipykernel)",
   "language": "python",
   "name": "python3"
  },
  "language_info": {
   "codemirror_mode": {
    "name": "ipython",
    "version": 3
   },
   "file_extension": ".py",
   "mimetype": "text/x-python",
   "name": "python",
   "nbconvert_exporter": "python",
   "pygments_lexer": "ipython3",
   "version": "3.10.6"
  }
 },
 "nbformat": 4,
 "nbformat_minor": 5
}
