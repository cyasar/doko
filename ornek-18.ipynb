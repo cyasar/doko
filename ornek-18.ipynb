{
 "cells": [
  {
   "cell_type": "code",
   "execution_count": 1,
   "id": "e033b4fc-86f2-4924-a31f-b9eb6614b4e1",
   "metadata": {
    "tags": []
   },
   "outputs": [
    {
     "name": "stdout",
     "output_type": "stream",
     "text": [
      "The minimum of the function is at: [0.49751243 0.49751243]\n"
     ]
    }
   ],
   "source": [
    "from scipy.optimize import minimize\n",
    "import numpy as np\n",
    "\n",
    "def f(x):\n",
    "    return x[0]**2 + x[1]**2\n",
    "\n",
    "def penalty(x, r):\n",
    "    return f(x) + r * (x[0] + x[1] - 1)**2\n",
    "\n",
    "r = 1  # Penalty parameter\n",
    "x0 = np.array([0.5, 0.5])  # Initial guess\n",
    "tol = 1e-6  # Tolerance for stopping criterion\n",
    "max_iter = 100  # Maximum number of iterations\n",
    "iter_count = 0  # Iteration counter\n",
    "\n",
    "while r < 1000 and iter_count < max_iter:\n",
    "    res = minimize(penalty, x0, args=(r), method='BFGS')\n",
    "    x0 = res.x\n",
    "    r *= 10\n",
    "    iter_count += 1\n",
    "\n",
    "print(\"The minimum of the function is at:\", x0)\n"
   ]
  },
  {
   "cell_type": "code",
   "execution_count": 4,
   "id": "72c92fa7-634a-40d5-9933-b1d5d0cad1be",
   "metadata": {
    "tags": []
   },
   "outputs": [
    {
     "name": "stdout",
     "output_type": "stream",
     "text": [
      "The minimum of the function is at: [0.33222591 0.33222591 0.33222591]\n"
     ]
    }
   ],
   "source": [
    "from scipy.optimize import minimize\n",
    "import numpy as np\n",
    "\n",
    "def f(x):\n",
    "    return x[0]**2 + x[1]**2 + x[2]**2\n",
    "\n",
    "def penalty(x, r):\n",
    "    return f(x) + r * (x[0] + x[1] + x[2] - 1)**2\n",
    "\n",
    "r = 1  # Penalty parameter\n",
    "x0 = np.array([0.33, 0.33, 0.34])  # Initial guess\n",
    "tol = 1e-6  # Tolerance for stopping criterion\n",
    "max_iter = 100  # Maximum number of iterations\n",
    "iter_count = 0  # Iteration counter\n",
    "\n",
    "while r < 1000 and iter_count < max_iter:\n",
    "    res = minimize(penalty, x0, args=(r), method='BFGS',\n",
    "                   bounds=((0, None), (0, None), (0, None)))\n",
    "    x0 = res.x\n",
    "    r *= 10\n",
    "    iter_count += 1\n",
    "\n",
    "print(\"The minimum of the function is at:\", x0)\n"
   ]
  },
  {
   "cell_type": "code",
   "execution_count": null,
   "id": "1a53f00b-8f7f-4379-a080-e9b3ad69fc9c",
   "metadata": {},
   "outputs": [],
   "source": []
  }
 ],
 "metadata": {
  "kernelspec": {
   "display_name": "Python 3 (ipykernel)",
   "language": "python",
   "name": "python3"
  },
  "language_info": {
   "codemirror_mode": {
    "name": "ipython",
    "version": 3
   },
   "file_extension": ".py",
   "mimetype": "text/x-python",
   "name": "python",
   "nbconvert_exporter": "python",
   "pygments_lexer": "ipython3",
   "version": "3.10.6"
  }
 },
 "nbformat": 4,
 "nbformat_minor": 5
}
