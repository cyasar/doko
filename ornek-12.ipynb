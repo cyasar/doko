{
 "cells": [
  {
   "cell_type": "code",
   "execution_count": 1,
   "id": "9477e108-8f59-4631-8087-5fdebdbaad87",
   "metadata": {
    "tags": []
   },
   "outputs": [
    {
     "name": "stdout",
     "output_type": "stream",
     "text": [
      "[215.66665769 166.16666927]\n"
     ]
    }
   ],
   "source": [
    "from scipy.optimize import minimize\n",
    "import numpy as np\n",
    "\n",
    "# Objective function\n",
    "def objective(x):\n",
    "    return 5*x[0] + 4*x[1]\n",
    "\n",
    "# Constraints\n",
    "def constraint1(x):\n",
    "    return x[0] - 200\n",
    "\n",
    "def constraint2(x):\n",
    "    return x[1] - 150\n",
    "\n",
    "def constraint3(x):\n",
    "    return 400 - x[0] - x[1]\n",
    "\n",
    "# Penalty function\n",
    "def penalty(x):\n",
    "    return max(0, constraint1(x))**2 + max(0, constraint2(x))**2 + max(0, constraint3(x))**2\n",
    "\n",
    "# Modified objective function for the penalty method\n",
    "def modified_objective(x, r):\n",
    "    return objective(x) + r * penalty(x)\n",
    "\n",
    "# Initial guess\n",
    "x0 = np.array([200, 150])\n",
    "\n",
    "# Penalty parameter\n",
    "r = 1\n",
    "\n",
    "result = minimize(modified_objective, x0, args=(r), method='SLSQP', bounds=((0, np.inf), (0, np.inf)))\n",
    "print(result.x)\n"
   ]
  },
  {
   "cell_type": "code",
   "execution_count": null,
   "id": "0ed3b70d-bd62-4628-8bf4-b4002c4055cb",
   "metadata": {},
   "outputs": [],
   "source": []
  }
 ],
 "metadata": {
  "kernelspec": {
   "display_name": "Python 3 (ipykernel)",
   "language": "python",
   "name": "python3"
  },
  "language_info": {
   "codemirror_mode": {
    "name": "ipython",
    "version": 3
   },
   "file_extension": ".py",
   "mimetype": "text/x-python",
   "name": "python",
   "nbconvert_exporter": "python",
   "pygments_lexer": "ipython3",
   "version": "3.10.6"
  }
 },
 "nbformat": 4,
 "nbformat_minor": 5
}
