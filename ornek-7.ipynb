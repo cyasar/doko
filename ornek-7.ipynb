{
 "cells": [
  {
   "cell_type": "code",
   "execution_count": 1,
   "id": "7549d54a-d607-483e-9789-ffc2418dd9fc",
   "metadata": {
    "tags": []
   },
   "outputs": [
    {
     "name": "stdout",
     "output_type": "stream",
     "text": [
      "Solution with Newton's method:  [1.99612608 0.99806298]\n",
      "Solution with BFGS:  [1.98889808 0.99444904]\n"
     ]
    }
   ],
   "source": [
    "from scipy import optimize\n",
    "import numpy as np\n",
    "\n",
    "# Define the function\n",
    "def func(x):\n",
    "    return (x[0] - 2)**4 + (x[0] - 2*x[1])**2\n",
    "\n",
    "# Define the gradient\n",
    "def grad(x):\n",
    "    return np.array([4*(x[0] - 2)**3 + 2*(x[0] - 2*x[1]), -4*(x[0] - 2*x[1])])\n",
    "\n",
    "# Define the Hessian\n",
    "def hess(x):\n",
    "    return np.array([[12*(x[0] - 2)**2 + 2, -4],[-4, 8]])\n",
    "\n",
    "# Initial guess\n",
    "x0 = np.array([0, 0])\n",
    "\n",
    "# Use Newton's method\n",
    "result_newton = optimize.minimize(func, x0, method='Newton-CG', jac=grad, hess=hess)\n",
    "\n",
    "# Use BFGS\n",
    "result_bfgs = optimize.minimize(func, x0, method='BFGS', jac=grad)\n",
    "\n",
    "print(\"Solution with Newton's method: \", result_newton.x)\n",
    "print(\"Solution with BFGS: \", result_bfgs.x)\n"
   ]
  },
  {
   "cell_type": "code",
   "execution_count": null,
   "id": "ba9727be-04ad-4a51-a0c0-980810aa429e",
   "metadata": {},
   "outputs": [],
   "source": []
  }
 ],
 "metadata": {
  "kernelspec": {
   "display_name": "Python 3 (ipykernel)",
   "language": "python",
   "name": "python3"
  },
  "language_info": {
   "codemirror_mode": {
    "name": "ipython",
    "version": 3
   },
   "file_extension": ".py",
   "mimetype": "text/x-python",
   "name": "python",
   "nbconvert_exporter": "python",
   "pygments_lexer": "ipython3",
   "version": "3.10.6"
  }
 },
 "nbformat": 4,
 "nbformat_minor": 5
}
