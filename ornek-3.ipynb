{
 "cells": [
  {
   "cell_type": "code",
   "execution_count": 1,
   "id": "3707cca3-7ab4-4d2b-a155-328a2ea93ac4",
   "metadata": {
    "tags": []
   },
   "outputs": [
    {
     "name": "stdout",
     "output_type": "stream",
     "text": [
      "Maksimum Etkinlik Oranı:  189.0\n",
      "Bileşen Miktarları (x, y):  [2.50000004 2.49999996]\n"
     ]
    }
   ],
   "source": [
    "from scipy.optimize import minimize\n",
    "\n",
    "# Hedef fonksiyonun tanımlanması\n",
    "def objective(z):\n",
    "    x = z[0]\n",
    "    y = z[1]\n",
    "    E1 = 100 - (x - 3)**2 - (y - 2)**2\n",
    "    E2 = 90 - (x - 2)**2 - (y - 3)**2\n",
    "    return -(E1 + E2)\n",
    "\n",
    "# Başlangıç tahmini\n",
    "z0 = [0, 0]\n",
    "\n",
    "# Kısıtlamalar\n",
    "bnds = ((0, 6), (0, 5))\n",
    "\n",
    "# Çözümün bulunması\n",
    "solution = minimize(objective, z0, bounds=bnds, method='SLSQP')\n",
    "\n",
    "# Çözümün yazdırılması\n",
    "print(\"Maksimum Etkinlik Oranı: \", -solution.fun)\n",
    "print(\"Bileşen Miktarları (x, y): \", solution.x)\n"
   ]
  },
  {
   "cell_type": "code",
   "execution_count": null,
   "id": "5fb58cf5-f121-47d0-b8dd-e2a72f422c87",
   "metadata": {},
   "outputs": [],
   "source": []
  }
 ],
 "metadata": {
  "kernelspec": {
   "display_name": "Python 3 (ipykernel)",
   "language": "python",
   "name": "python3"
  },
  "language_info": {
   "codemirror_mode": {
    "name": "ipython",
    "version": 3
   },
   "file_extension": ".py",
   "mimetype": "text/x-python",
   "name": "python",
   "nbconvert_exporter": "python",
   "pygments_lexer": "ipython3",
   "version": "3.10.6"
  }
 },
 "nbformat": 4,
 "nbformat_minor": 5
}
